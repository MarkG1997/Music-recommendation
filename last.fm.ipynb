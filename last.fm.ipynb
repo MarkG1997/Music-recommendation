{
 "cells": [
  {
   "cell_type": "code",
   "execution_count": 1,
   "metadata": {},
   "outputs": [],
   "source": [
    "\n",
    "\n",
    "\n",
    "import numpy as np\n",
    "import os\n",
    "import json\n",
    "import glob\n",
    "Max_tag_number=3"
   ]
  },
  {
   "cell_type": "code",
   "execution_count": 2,
   "metadata": {},
   "outputs": [],
   "source": [
    "datapath=r'B:\\pj\\lastfm_subset'"
   ]
  },
  {
   "cell_type": "code",
   "execution_count": 3,
   "metadata": {},
   "outputs": [],
   "source": [
    "assert os.path.isdir(datapath),'wrong path'"
   ]
  },
  {
   "cell_type": "code",
   "execution_count": 4,
   "metadata": {},
   "outputs": [],
   "source": [
    "def readjson(path):\n",
    "    with open(path) as f:\n",
    "        data=json.load(f)\n",
    "    return data   "
   ]
  },
  {
   "cell_type": "code",
   "execution_count": 5,
   "metadata": {},
   "outputs": [],
   "source": [
    "mus_Track_id=[]#存储 trackid\n",
    "mus_simi_id=[]#只保存最相近的\n",
    "mus_simi_factor=[]#保存相近系数\n",
    "mus_tag_Number=[]\n",
    "mus_tag_Name=[]\n",
    "mus_tag1=[]\n",
    "for root,dirs,files in os.walk(datapath):\n",
    "    \n",
    "    files=glob.glob(os.path.join(root,'*'+'.json'))\n",
    "    for f in files:\n",
    "        f=readjson(f)\n",
    "        sim=np.array(f['similars'])\n",
    "        mus_Track_id.append(np.array(f['track_id']))\n",
    "        tag=np.array(f['tags'])\n",
    "        if len(sim):\n",
    "            mus_simi_id.append(sim[0][0])\n",
    "            mus_simi_factor.append(sim[0][1])\n",
    "            if len(tag):\n",
    "                if len(tag[:,0])>=Max_tag_number:\n",
    "                    mus_tag_Name.append(tag[0:Max_tag_number,0])\n",
    "                    mus_tag_Number.append(tag[0:Max_tag_number,1])\n",
    "                    for t in tag[0:2,0]:\n",
    "                        mus_tag1.append(t)\n",
    "                    #mus_tag_Name.append(1)\n",
    "                    \n",
    "                else:\n",
    "                    mus_tag_Name.append(tag[:,0])\n",
    "                    mus_tag_Number.append(tag[:,1])\n",
    "                    for t in tag[:,0]:\n",
    "                        mus_tag1.append(t)\n",
    "                    #mus_tag_Name.append(1)\n",
    "            else:\n",
    "                mus_tag_Name.append(0)\n",
    "                mus_tag_Number.append(0)\n",
    "                               \n",
    "        else:\n",
    "            mus_simi_id.append(0)\n",
    "            mus_simi_factor.append(0)\n",
    "            if len(tag):\n",
    "                if len(tag[:,0])>=Max_tag_number:\n",
    "                    mus_tag_Name.append(tag[0:Max_tag_number,0])\n",
    "                    mus_tag_Number.append(tag[0:Max_tag_number,1])\n",
    "                    for t in tag[0:2,0]:\n",
    "                        mus_tag1.append(t)\n",
    "                    #mus_tag_Name.append(1)\n",
    "                    \n",
    "                else:\n",
    "                    mus_tag_Name.append(tag[:,0])\n",
    "                    mus_tag_Number.append(tag[:,1])\n",
    "                    for t in tag[:,0]:\n",
    "                        mus_tag1.append(t)\n",
    "                    #mus_tag_Name.append(1)\n",
    "            else:\n",
    "                mus_tag_Name.append(0)\n",
    "                mus_tag_Number.append(0)"
   ]
  },
  {
   "cell_type": "code",
   "execution_count": 6,
   "metadata": {
    "scrolled": true
   },
   "outputs": [
    {
     "name": "stderr",
     "output_type": "stream",
     "text": [
      "c:\\Users\\GXY\\Anaconda3\\lib\\site-packages\\ipykernel_launcher.py:7: FutureWarning: elementwise comparison failed; returning scalar instead, but in the future will perform elementwise comparison\n",
      "  import sys\n",
      "c:\\Users\\GXY\\Anaconda3\\lib\\site-packages\\ipykernel_launcher.py:17: FutureWarning: elementwise comparison failed; returning scalar instead, but in the future will perform elementwise comparison\n"
     ]
    }
   ],
   "source": [
    "unique_data = np.unique(mus_tag1)\n",
    "name=np.array(mus_tag_Name)\n",
    "number=np.array(mus_tag_Number)\n",
    "mid=np.zeros([9330,Max_tag_number],dtype=np.float)\n",
    "for i in range(len(name)):\n",
    "    c=0\n",
    "    if number[i]!=0:\n",
    "        for j in number[i]:\n",
    "            mid[i][c]=j\n",
    "            c+=1\n",
    "        \n",
    "#cou=[]\n",
    "\n",
    "midArray=np.zeros([9330,1909],dtype=np.float)\n",
    "for i in range(len(name)):\n",
    "    \n",
    "    if name[i]!=0:\n",
    "        \n",
    "        pp=0\n",
    "        for j in name[i]:\n",
    "            \n",
    "            for c in range(1909):\n",
    "                if j==unique_data[c]:\n",
    "                    midArray[i,c]=mid[i,pp]\n",
    "                   \n",
    "            pp=pp+1\n",
    "           \n"
   ]
  },
  {
   "cell_type": "code",
   "execution_count": 7,
   "metadata": {},
   "outputs": [],
   "source": [
    "#np.set_printoptions(threshold=np.inf)"
   ]
  },
  {
   "cell_type": "code",
   "execution_count": 8,
   "metadata": {},
   "outputs": [],
   "source": [
    "#Now we want build a reward function, this function take x,y,w as input.\n",
    "#x is the tag squence we rececive, \n",
    "#y is the result we have receviced from the user (-100,100) 100 means like, -100 means dislike\n",
    "#w is the weight factor data collected more recently has more power in this function.\n",
    "#The reward function will take all the informations and compute the best reward result from the function.\n",
    "#At present we use linear model"
   ]
  },
  {
   "cell_type": "code",
   "execution_count": 9,
   "metadata": {},
   "outputs": [],
   "source": [
    "from sklearn.linear_model import LinearRegression\n",
    "def search(tag):\n",
    "    for i in range(len(mus_Track_id)):\n",
    "        if mus_Track_id[i]==tag:\n",
    "            return midArray[i,:]\n",
    "        else:\n",
    "            return 0"
   ]
  },
  {
   "cell_type": "code",
   "execution_count": 10,
   "metadata": {},
   "outputs": [
    {
     "data": {
      "text/plain": [
       "(9330, 1909)"
      ]
     },
     "execution_count": 10,
     "metadata": {},
     "output_type": "execute_result"
    }
   ],
   "source": [
    "#WholeData 是剩余所有数据的tag表\n",
    "#Near_tag 是这些track 最相近的tag表*对应的系数\n",
    "#near_tag_x is the near tag for x\n",
    "def Reward(x,y,near_tag_x,z,WholeData,near_tag):\n",
    "    #对于已经得到结果的track 如果这个track的tag向量是0  那么用他最相近的那个替换\n",
    "    x=np.array(x)\n",
    "    y=np.array(y)\n",
    "    #for i in len(x[:,0]):\n",
    "              \n",
    "        #if x[i,:]==0:\n",
    "            \n",
    "            #x[i,:]=near_tag_x[i,:]\n",
    "            \n",
    "    model=LinearRegression()\n",
    "    model.fit(x,y)\n",
    "    y_predict=(model.predict(WholeData)+model.predict(near_tag))*0.5\n",
    "    return np.argmax(y_predict)\n",
    "#mus_tag_Name\n",
    "mus_simi_factor=np.array(mus_simi_factor,dtype=np.float)\n",
    "#mus_simi_factor\n",
    "midArray.shape"
   ]
  },
  {
   "cell_type": "code",
   "execution_count": 11,
   "metadata": {},
   "outputs": [],
   "source": [
    "near_tag=np.zeros([9330,1909],dtype=np.float)\n",
    "for i in range (len(mus_simi_id)):\n",
    "    t1=search(mus_simi_id[i])\n",
    "    \n",
    "    if t1!=0:\n",
    "        near_tag[i,:]=t1*mus_simi_factor[i]\n",
    "\n"
   ]
  },
  {
   "cell_type": "code",
   "execution_count": 12,
   "metadata": {},
   "outputs": [],
   "source": [
    "#This function is used to add the known tag into know squence\n",
    "#N is the index of the remove track\n",
    "def delete1(n,x,y,near_tag_x,yk,wholedata,near_tag):\n",
    "    recommend=wholedata[n,:]\n",
    "    near_recommend=near_tag[n,:]\n",
    "    x.append(recommend)\n",
    "    y.append(yk)\n",
    "    near_tag_x.append(near_recommend)\n",
    "    holedata=np.delete(wholedata,n,axis=0)\n",
    "    ear_tag=np.delete(near_tag,n,axis=0)\n",
    "    return x,y,near_tag_x,holedata,ear_tag"
   ]
  },
  {
   "cell_type": "code",
   "execution_count": 13,
   "metadata": {},
   "outputs": [],
   "source": [
    "import random\n"
   ]
  },
  {
   "cell_type": "code",
   "execution_count": 14,
   "metadata": {},
   "outputs": [],
   "source": [
    "ty=np.random.randint(-1,1,(9330,1))"
   ]
  },
  {
   "cell_type": "code",
   "execution_count": 15,
   "metadata": {},
   "outputs": [
    {
     "data": {
      "text/plain": [
       "(9330, 1909)"
      ]
     },
     "execution_count": 15,
     "metadata": {},
     "output_type": "execute_result"
    }
   ],
   "source": [
    "for i in range(len(ty[:,0])):\n",
    "    if ty[i]==-1:\n",
    "        ty[i]=-100\n",
    "    else:\n",
    "        if ty[i]==1:\n",
    "            ty[i]=100\n",
    "\n",
    "near_tag.shape\n",
    "midArray.shape"
   ]
  },
  {
   "cell_type": "code",
   "execution_count": 16,
   "metadata": {},
   "outputs": [],
   "source": [
    "error=np.zeros([9330,1])\n",
    "n=0\n",
    "e=0\n",
    "x=[]\n",
    "y=[]\n",
    "near_tag_x=[]\n",
    "for i in range (10):\n",
    "    if ty[n]<0:\n",
    "        e=e+1\n",
    "        error[i]=e\n",
    "    \n",
    "    x,y,near_tag_x,midArray,near_tag=delete1(n,x,y,near_tag_x,ty[n],midArray,near_tag)\n",
    "    \n",
    "    ty=np.delete(ty,n,axis=0)\n",
    "    n=Reward(x,y,near_tag_x,x,midArray,near_tag)\n",
    "    "
   ]
  },
  {
   "cell_type": "code",
   "execution_count": 20,
   "metadata": {},
   "outputs": [
    {
     "data": {
      "text/plain": [
       "array([5.])"
      ]
     },
     "execution_count": 20,
     "metadata": {},
     "output_type": "execute_result"
    }
   ],
   "source": [
    "error[8]"
   ]
  },
  {
   "cell_type": "code",
   "execution_count": null,
   "metadata": {},
   "outputs": [],
   "source": []
  }
 ],
 "metadata": {
  "kernelspec": {
   "display_name": "Python 3",
   "language": "python",
   "name": "python3"
  },
  "language_info": {
   "codemirror_mode": {
    "name": "ipython",
    "version": 3
   },
   "file_extension": ".py",
   "mimetype": "text/x-python",
   "name": "python",
   "nbconvert_exporter": "python",
   "pygments_lexer": "ipython3",
   "version": "3.7.4"
  }
 },
 "nbformat": 4,
 "nbformat_minor": 2
}
